{
  "nbformat": 4,
  "nbformat_minor": 0,
  "metadata": {
    "colab": {
      "provenance": [],
      "authorship_tag": "ABX9TyMp5YDMxBGF7uD9S+AFeWhv",
      "include_colab_link": true
    },
    "kernelspec": {
      "name": "python3",
      "display_name": "Python 3"
    },
    "language_info": {
      "name": "python"
    }
  },
  "cells": [
    {
      "cell_type": "markdown",
      "metadata": {
        "id": "view-in-github",
        "colab_type": "text"
      },
      "source": [
        "<a href=\"https://colab.research.google.com/github/KaiqueConstantino/dimensionality-reduction-in-images/blob/main/dimensionality_reduction_in_images.ipynb\" target=\"_parent\"><img src=\"https://colab.research.google.com/assets/colab-badge.svg\" alt=\"Open In Colab\"/></a>"
      ]
    },
    {
      "cell_type": "markdown",
      "source": [],
      "metadata": {
        "id": "2KVUv2ju5zC5"
      }
    },
    {
      "cell_type": "markdown",
      "source": [
        "# Function to convert an RGB image to grayscale"
      ],
      "metadata": {
        "id": "spfdIpoZUVmk"
      }
    },
    {
      "cell_type": "markdown",
      "source": [
        "Function: convert_to_grayscale\n",
        "\"To create the convert_to_grayscale function, I studied how colors are represented in the RGB (Red, Green, Blue) model. Each pixel in a color image is made up of three values ​​that indicate the intensity of red, green and blue. To transform a color image in grayscale, I realized that I needed to calculate a weighted average of these values.\n",
        "\n",
        "The formula I used,\n",
        "Gray= 0.299𝑅 + 0.587𝐺 + 0.114𝐵, was based on the human perception of brightness, as the human eye is most sensitive to green, followed by red and, finally, blue. With that, I wrote a loop that goes through each pixel of the image, applies this formula, and replaces the RGB values ​​with the grayscale value. Creating the image in “L” mode ensured it was in the proper format for grayscale.”"
      ],
      "metadata": {
        "id": "piFPO81NVj9R"
      }
    },
    {
      "cell_type": "code",
      "execution_count": 1,
      "metadata": {
        "id": "haTaLyed5orf"
      },
      "outputs": [],
      "source": [
        "from PIL import Image\n",
        "\n",
        "# Function to convert an RGB image to grayscale\n",
        "def convert_to_grayscale(image):\n",
        "    \"\"\"\n",
        "    Convert an RGB image to grayscale using manual computation.\n",
        "\n",
        "    Args:\n",
        "        image (PIL.Image): Input RGB image.\n",
        "\n",
        "    Returns:\n",
        "        PIL.Image: Grayscale image with pixel values in the range 0 to 255.\n",
        "    \"\"\"\n",
        "    # Get the dimensions of the image\n",
        "    width, height = image.size\n",
        "\n",
        "    # Create a new image to store the grayscale result\n",
        "    grayscale_image = Image.new(\"L\", (width, height))  # \"L\" mode is for grayscale\n",
        "\n",
        "    # Load pixel data from the input image\n",
        "    pixels = grayscale_image.load()\n",
        "\n",
        "    for x in range(width):\n",
        "        for y in range(height):\n",
        "            # Get the RGB values of the current pixel\n",
        "            r, g, b = image.getpixel((x, y))\n",
        "\n",
        "            # Compute the grayscale value using the weighted average formula\n",
        "            # This formula mimics the human perception of brightness\n",
        "            gray = int(0.299 * r + 0.587 * g + 0.114 * b)\n",
        "\n",
        "            # Set the calculated grayscale value in the new image\n",
        "            pixels[x, y] = gray\n",
        "\n",
        "    return grayscale_image"
      ]
    },
    {
      "cell_type": "markdown",
      "source": [
        "# Function to binarize a grayscale image"
      ],
      "metadata": {
        "id": "NpSVsnLdURLU"
      }
    },
    {
      "cell_type": "markdown",
      "source": [
        "Function: convert_to_binary\n",
        "\"In the convert_to_binary function, my objective was to transform the grayscale image into a binary image, that is, just black and white. I learned that for this it would be necessary to define a threshold (threshold) — a value that separates what will be considered white and what will be considered black.\n",
        "\n",
        "First, I realized that each pixel in the grayscale image has a value between 0 and 255. I chose a default threshold of 128, but left the function flexible so that the threshold could be changed. For each pixel, I check if its value is greater than the threshold: if so, it turns white (255); if not, it turns black (0). The \"1\" mode in image creation ensured that the output was a binary image, with the values ​​already converted to represent just the two colors.\""
      ],
      "metadata": {
        "id": "ZvqkMIdQV9py"
      }
    },
    {
      "cell_type": "code",
      "source": [
        "# Function to binarize a grayscale image\n",
        "def convert_to_binary(image, threshold=128):\n",
        "    \"\"\"\n",
        "    Convert a grayscale image to binary (black and white) based on a threshold.\n",
        "\n",
        "    Args:\n",
        "        image (PIL.Image): Input grayscale image.\n",
        "        threshold (int): Threshold for binarization. Pixels above this value become white; others become black.\n",
        "\n",
        "    Returns:\n",
        "        PIL.Image: Binary image with pixel values of 0 (black) or 255 (white).\n",
        "    \"\"\"\n",
        "    # Get the dimensions of the image\n",
        "    width, height = image.size\n",
        "\n",
        "    # Create a new image to store the binary result\n",
        "    binary_image = Image.new(\"1\", (width, height))  # \"1\" mode is for binary images\n",
        "\n",
        "    # Load pixel data from the grayscale image\n",
        "    pixels = binary_image.load()\n",
        "\n",
        "    for x in range(width):\n",
        "        for y in range(height):\n",
        "            # Get the grayscale value of the current pixel\n",
        "            gray_value = image.getpixel((x, y))\n",
        "\n",
        "            # Apply the threshold to decide if the pixel is black or white\n",
        "            pixels[x, y] = 1 if gray_value > threshold else 0  # 1 = white, 0 = black\n",
        "\n",
        "    return binary_image\n",
        "\n"
      ],
      "metadata": {
        "id": "-nhK_agbUNCX"
      },
      "execution_count": 2,
      "outputs": []
    },
    {
      "cell_type": "markdown",
      "source": [
        "# Image Transforming"
      ],
      "metadata": {
        "id": "af3VxANFUwUS"
      }
    },
    {
      "cell_type": "code",
      "source": [
        "# Load the Lena image from file\n",
        "image_path = \"lena.jpg\"  # Ensure lena.jpg is in the same directory as this script\n",
        "original_image = Image.open(image_path)\n",
        "\n",
        "# Convert the RGB image to grayscale\n",
        "grayscale_image = convert_to_grayscale(original_image)\n",
        "grayscale_image.show()  # Display the grayscale image\n",
        "grayscale_image.save(\"lena_grayscale.jpg\")  # Save the grayscale image to a file\n",
        "\n",
        "# Convert the grayscale image to binary (black and white)\n",
        "binary_image = convert_to_binary(grayscale_image)\n",
        "binary_image.show()  # Display the binary image\n",
        "binary_image.save(\"lena_binary.jpg\")  # Save the binary image to a file"
      ],
      "metadata": {
        "id": "70OWLz5wUuP5"
      },
      "execution_count": 3,
      "outputs": []
    },
    {
      "cell_type": "markdown",
      "source": [
        "# Conclusion"
      ],
      "metadata": {
        "id": "75YVKRmfWNYv"
      }
    },
    {
      "cell_type": "markdown",
      "source": [
        "Conclusion of the Study\n",
        "\"My biggest takeaway from creating these functions was understanding the fundamentals of image manipulation. It's not just about using ready-made libraries, it's about understanding what actually happens at each step of the image transformation process. Working directly with pixels gave me more control and clarity over the algorithms that make these visual changes possible.\" Conclusion of the Study\n",
        "\"My biggest takeaway from creating these functions was understanding the fundamentals of image manipulation. It's not just about using ready-made libraries, it's about understanding what actually happens at each step of the image transformation process. Working directly with pixels gave me more control and clarity over the algorithms that make these visual changes possible.”"
      ],
      "metadata": {
        "id": "zY8mXxljWPuX"
      }
    }
  ]
}